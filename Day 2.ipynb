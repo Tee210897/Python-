{
 "cells": [
  {
   "cell_type": "code",
   "execution_count": 7,
   "id": "a556bb1c",
   "metadata": {},
   "outputs": [
    {
     "name": "stdout",
     "output_type": "stream",
     "text": [
      "what is x? 5\n",
      "x squared is 25\n"
     ]
    }
   ],
   "source": [
    "#Defining a Function\n",
    "def main():\n",
    "    x = int(input('what is x? '))\n",
    "    print('x squared is', square(x))\n",
    "def square(n):\n",
    "    return n**2\n",
    "main()"
   ]
  },
  {
   "cell_type": "code",
   "execution_count": 9,
   "id": "8b45f5a9",
   "metadata": {},
   "outputs": [
    {
     "name": "stdout",
     "output_type": "stream",
     "text": [
      "score: 41\n",
      "Grade = D\n"
     ]
    }
   ],
   "source": [
    "#conditioning using if, elif, else for a grade book\n",
    "score = int(input('score: '))\n",
    "\n",
    "if score >=70:\n",
    "    print('Grade = A')\n",
    "elif score >=60:\n",
    "    print('Grade = B')\n",
    "elif score >=50:\n",
    "    print('Grade = C')\n",
    "elif score >=40:\n",
    "    print('Grade = D')\n",
    "elif score >=30:\n",
    "    print('Grade = E')\n",
    "else:\n",
    "    print('Grade = F')"
   ]
  },
  {
   "cell_type": "code",
   "execution_count": null,
   "id": "339df20f",
   "metadata": {},
   "outputs": [],
   "source": []
  }
 ],
 "metadata": {
  "kernelspec": {
   "display_name": "Python 3 (ipykernel)",
   "language": "python",
   "name": "python3"
  },
  "language_info": {
   "codemirror_mode": {
    "name": "ipython",
    "version": 3
   },
   "file_extension": ".py",
   "mimetype": "text/x-python",
   "name": "python",
   "nbconvert_exporter": "python",
   "pygments_lexer": "ipython3",
   "version": "3.11.5"
  }
 },
 "nbformat": 4,
 "nbformat_minor": 5
}
